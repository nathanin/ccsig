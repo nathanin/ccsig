{
 "cells": [
  {
   "cell_type": "code",
   "execution_count": 1,
   "metadata": {},
   "outputs": [],
   "source": [
    "# Something about taking permutations is super slow. what is it?\n",
    "\n",
    "%load_ext autoreload\n",
    "%autoreload 2\n",
    "%matplotlib inline\n",
    "\n",
    "from matplotlib import pyplot as plt\n",
    "import seaborn as sns\n",
    "\n",
    "import numpy as np\n",
    "import pandas as pd\n",
    "import scanpy as sc\n",
    "import pickle\n",
    "\n",
    "from interaction_score_def import interaction_test_base, _process_permutation, permute_labels\n",
    "from interaction_util import group_cells\n",
    "import itertools"
   ]
  },
  {
   "cell_type": "code",
   "execution_count": 2,
   "metadata": {},
   "outputs": [],
   "source": [
    "from numba import jit, prange"
   ]
  },
  {
   "cell_type": "code",
   "execution_count": 3,
   "metadata": {},
   "outputs": [
    {
     "name": "stdout",
     "output_type": "stream",
     "text": [
      "/home/ingn/proj/pembroRT/data/epithelial_v4_rnd2_filtered.h5ad\r\n",
      "/home/ingn/proj/pembroRT/data/PembroRT_v4_rnd2.clust.h5ad\r\n",
      "/home/ingn/proj/pembroRT/data/PembroRT_v4_rnd2.receptor_scores.h5ad\r\n"
     ]
    }
   ],
   "source": [
    "!ls /home/ingn/proj/pembroRT/data/*.h5ad"
   ]
  },
  {
   "cell_type": "code",
   "execution_count": 7,
   "metadata": {},
   "outputs": [],
   "source": [
    "#https://github.com/numba/numba/issues/1269#issuecomment-702665837\n",
    "@jit(nopython=True)\n",
    "def apply_along_axis_0(func1d, arr):\n",
    "    \"\"\"Like calling func1d(arr, axis=0)\"\"\"\n",
    "    if arr.size == 0:\n",
    "        raise RuntimeError(\"Must have arr.size > 0\")\n",
    "    ndim = arr.ndim\n",
    "    if ndim == 0:\n",
    "        raise RuntimeError(\"Must have ndim > 0\")\n",
    "    elif 1 == ndim:\n",
    "        return func1d(arr)\n",
    "    else:\n",
    "        result_shape = arr.shape[1:]\n",
    "        out = np.empty(result_shape, arr.dtype)\n",
    "        _apply_along_axis_0(func1d, arr, out)\n",
    "        return out\n",
    "\n",
    "\n",
    "@jit(nopython=True)\n",
    "def _apply_along_axis_0(func1d, arr, out):\n",
    "    \"\"\"Like calling func1d(arr, axis=0, out=out). Require arr to be 2d or bigger.\"\"\"\n",
    "    ndim = arr.ndim\n",
    "    if ndim < 2:\n",
    "        raise RuntimeError(\"_apply_along_axis_0 requires 2d array or bigger\")\n",
    "    elif ndim == 2:  # 2-dimensional case\n",
    "        for i in range(len(out)):\n",
    "            out[i] = func1d(arr[:, i])\n",
    "    else:  # higher dimensional case\n",
    "        for i, out_slice in enumerate(out):\n",
    "            _apply_along_axis_0(func1d, arr[:, i], out_slice)\n",
    "\n",
    "\n",
    "@jit(nopython=True)\n",
    "def nb_mean_axis_0(arr):\n",
    "    return apply_along_axis_0(np.mean, arr)\n",
    "\n",
    "\n",
    "@jit(nopython=True, parallel=True)\n",
    "def nb_groupby(x, y, uy, min_cells=10):\n",
    "    xout = np.zeros((len(uy),x.shape[1]), dtype=np.float32)\n",
    "    for i in prange(len(uy)):\n",
    "        u = uy[i]\n",
    "        idx = y==u\n",
    "        if np.sum(idx) < min_cells:\n",
    "            continue\n",
    "        #xout[i,:] = np.mean(x[idx,:], axis=0)\n",
    "        xout[i,:] = nb_mean_axis_0(x[idx,:])\n",
    "    return xout"
   ]
  },
  {
   "cell_type": "code",
   "execution_count": 5,
   "metadata": {},
   "outputs": [
    {
     "name": "stdout",
     "output_type": "stream",
     "text": [
      "(600000, 1)\n",
      "(600000,)\n",
      "(600000,)\n"
     ]
    }
   ],
   "source": [
    "size = 600000\n",
    "n_groups = 40\n",
    "n_containers = 120\n",
    "\n",
    "x = np.expand_dims(np.random.randn(size), 1)\n",
    "y = np.random.choice(n_groups, size)\n",
    "c = np.random.choice(n_containers, size)\n",
    "\n",
    "print(x.shape)\n",
    "print(y.shape)\n",
    "print(c.shape)\n",
    "\n",
    "joined = [f'{i}_{j}' for i,j in zip(y,c)]\n",
    "uj, ji = np.unique(joined, return_inverse=True)"
   ]
  },
  {
   "cell_type": "code",
   "execution_count": 8,
   "metadata": {},
   "outputs": [
    {
     "name": "stdout",
     "output_type": "stream",
     "text": [
      "224 ms ± 53.9 ms per loop (mean ± std. dev. of 7 runs, 5 loops each)\n"
     ]
    }
   ],
   "source": [
    "%%timeit -n 5\n",
    "ret = nb_groupby(x, ji, np.arange(ji.max()), min_cells=10)"
   ]
  },
  {
   "cell_type": "code",
   "execution_count": null,
   "metadata": {},
   "outputs": [],
   "source": [
    "# %%timeit\n",
    "# ret = group_cells(x, ji, u_y=np.arange(ji.max()), agg=lambda x: np.sum(x, axis=0))"
   ]
  }
 ],
 "metadata": {
  "kernelspec": {
   "display_name": "Python 3",
   "language": "python",
   "name": "python3"
  },
  "language_info": {
   "codemirror_mode": {
    "name": "ipython",
    "version": 3
   },
   "file_extension": ".py",
   "mimetype": "text/x-python",
   "name": "python",
   "nbconvert_exporter": "python",
   "pygments_lexer": "ipython3",
   "version": "3.8.6"
  }
 },
 "nbformat": 4,
 "nbformat_minor": 4
}
